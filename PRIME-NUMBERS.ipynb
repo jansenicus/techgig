{
 "cells": [
  {
   "cell_type": "markdown",
   "metadata": {},
   "source": [
    "# Finding Prime Numbers Between a Range"
   ]
  },
  {
   "cell_type": "markdown",
   "metadata": {},
   "source": [
    "Let's say we have a range of numbers between 2 and 100."
   ]
  },
  {
   "cell_type": "code",
   "execution_count": 238,
   "metadata": {},
   "outputs": [],
   "source": [
    "xmin, xmax = (1,100)"
   ]
  },
  {
   "cell_type": "code",
   "execution_count": 239,
   "metadata": {
    "scrolled": true
   },
   "outputs": [
    {
     "name": "stdout",
     "output_type": "stream",
     "text": [
      "[1, 2, 3, 4, 5, 6, 7, 8, 9, 10, 11, 12, 13, 14, 15, 16, 17, 18, 19, 20, 21, 22, 23, 24, 25, 26, 27, 28, 29, 30, 31, 32, 33, 34, 35, 36, 37, 38, 39, 40, 41, 42, 43, 44, 45, 46, 47, 48, 49, 50, 51, 52, 53, 54, 55, 56, 57, 58, 59, 60, 61, 62, 63, 64, 65, 66, 67, 68, 69, 70, 71, 72, 73, 74, 75, 76, 77, 78, 79, 80, 81, 82, 83, 84, 85, 86, 87, 88, 89, 90, 91, 92, 93, 94, 95, 96, 97, 98, 99, 100]\n"
     ]
    }
   ],
   "source": [
    "numbers = [x for x in range(xmin,xmax+1)]\n",
    "print(numbers)"
   ]
  },
  {
   "cell_type": "markdown",
   "metadata": {},
   "source": [
    "## Defitinion of Prime Number\n",
    "\n",
    "A prime number (or a prime) is a natural number greater than 1 that has no positive divisors other than 1 and itself.\n",
    "\n",
    "By Euclid's theorem, there are an infinite number of prime numbers. Subsets of the prime numbers may be generated with various formulas for primes."
   ]
  },
  {
   "cell_type": "markdown",
   "metadata": {},
   "source": [
    "## Non Prime Numbers\n",
    "\n",
    "Non prime number is divisible by number other than the number `1` and itself.\n",
    "\n",
    "We begin to iterate from number `2` and check if the number is divisible by a number between `2` and itself.\n",
    "\n",
    "If there is such number then our number is non prime number. "
   ]
  },
  {
   "cell_type": "code",
   "execution_count": 240,
   "metadata": {},
   "outputs": [
    {
     "name": "stdout",
     "output_type": "stream",
     "text": [
      "4 % 2 = 2\n",
      "6 % 2 = 3\n",
      "8 % 2 = 4\n",
      "9 % 3 = 3\n",
      "10 % 2 = 5\n",
      "12 % 2 = 6\n",
      "14 % 2 = 7\n",
      "15 % 3 = 5\n",
      "16 % 2 = 8\n",
      "18 % 2 = 9\n",
      "20 % 2 = 10\n",
      "21 % 3 = 7\n",
      "22 % 2 = 11\n",
      "24 % 2 = 12\n",
      "25 % 5 = 5\n",
      "26 % 2 = 13\n",
      "27 % 3 = 9\n",
      "28 % 2 = 14\n",
      "30 % 2 = 15\n",
      "32 % 2 = 16\n",
      "33 % 3 = 11\n",
      "34 % 2 = 17\n",
      "35 % 5 = 7\n",
      "36 % 2 = 18\n",
      "38 % 2 = 19\n",
      "39 % 3 = 13\n",
      "40 % 2 = 20\n",
      "42 % 2 = 21\n",
      "44 % 2 = 22\n",
      "45 % 3 = 15\n",
      "46 % 2 = 23\n",
      "48 % 2 = 24\n",
      "49 % 7 = 7\n",
      "50 % 2 = 25\n",
      "51 % 3 = 17\n",
      "52 % 2 = 26\n",
      "54 % 2 = 27\n",
      "55 % 5 = 11\n",
      "56 % 2 = 28\n",
      "57 % 3 = 19\n",
      "58 % 2 = 29\n",
      "60 % 2 = 30\n",
      "62 % 2 = 31\n",
      "63 % 3 = 21\n",
      "64 % 2 = 32\n",
      "65 % 5 = 13\n",
      "66 % 2 = 33\n",
      "68 % 2 = 34\n",
      "69 % 3 = 23\n",
      "70 % 2 = 35\n",
      "72 % 2 = 36\n",
      "74 % 2 = 37\n",
      "75 % 3 = 25\n",
      "76 % 2 = 38\n",
      "77 % 7 = 11\n",
      "78 % 2 = 39\n",
      "80 % 2 = 40\n",
      "81 % 3 = 27\n",
      "82 % 2 = 41\n",
      "84 % 2 = 42\n",
      "85 % 5 = 17\n",
      "86 % 2 = 43\n",
      "87 % 3 = 29\n",
      "88 % 2 = 44\n",
      "90 % 2 = 45\n",
      "91 % 7 = 13\n",
      "92 % 2 = 46\n",
      "93 % 3 = 31\n",
      "94 % 2 = 47\n",
      "95 % 5 = 19\n",
      "96 % 2 = 48\n",
      "98 % 2 = 49\n",
      "99 % 3 = 33\n",
      "100 % 2 = 50\n"
     ]
    }
   ],
   "source": [
    "for num in numbers:\n",
    "    for i in range(2, num):\n",
    "        if (num % i) == 0:\n",
    "            print(num, '%', i, '=', int(num/i))\n",
    "            break"
   ]
  },
  {
   "cell_type": "markdown",
   "metadata": {},
   "source": [
    "We can save all the nonprime number set into an array `nonprimeset`."
   ]
  },
  {
   "cell_type": "code",
   "execution_count": 241,
   "metadata": {},
   "outputs": [],
   "source": [
    "nonprimeset = [1]\n",
    "\n",
    "for num in numbers:\n",
    "    for i in range(2, num):\n",
    "        if (num % i) == 0:\n",
    "            nonprimeset.append(num)\n",
    "            break\n",
    "            "
   ]
  },
  {
   "cell_type": "markdown",
   "metadata": {
    "variables": {
     "xmax": "100",
     "xmin": "1"
    }
   },
   "source": [
    "And check how many non prime numbers are there between {{xmin}} and {{xmax}}."
   ]
  },
  {
   "cell_type": "code",
   "execution_count": 242,
   "metadata": {},
   "outputs": [
    {
     "data": {
      "text/plain": [
       "76"
      ]
     },
     "execution_count": 242,
     "metadata": {},
     "output_type": "execute_result"
    }
   ],
   "source": [
    "len(nonprimeset)"
   ]
  },
  {
   "cell_type": "markdown",
   "metadata": {},
   "source": [
    "## Prime Numbers\n",
    "\n",
    "Everything else not in nonprime set is prime number."
   ]
  },
  {
   "cell_type": "code",
   "execution_count": 243,
   "metadata": {},
   "outputs": [
    {
     "name": "stdout",
     "output_type": "stream",
     "text": [
      "3\n",
      "5\n",
      "7\n",
      "11\n",
      "13\n",
      "17\n",
      "19\n",
      "23\n",
      "29\n",
      "31\n",
      "37\n",
      "41\n",
      "43\n",
      "47\n",
      "53\n",
      "59\n",
      "61\n",
      "67\n",
      "71\n",
      "73\n",
      "79\n",
      "83\n",
      "89\n",
      "97\n"
     ]
    }
   ],
   "source": [
    "for num in numbers:\n",
    "    if num not in nonprimeset:\n",
    "        print(num)"
   ]
  },
  {
   "cell_type": "markdown",
   "metadata": {},
   "source": [
    "We can save all the prime number set into an array `primeset`."
   ]
  },
  {
   "cell_type": "code",
   "execution_count": 244,
   "metadata": {},
   "outputs": [],
   "source": [
    "primeset = []\n",
    "\n",
    "for num in numbers:\n",
    "    if num not in nonprimeset:\n",
    "        primeset.append(num)"
   ]
  },
  {
   "cell_type": "markdown",
   "metadata": {
    "variables": {
     "xmax": "100",
     "xmin": "1"
    }
   },
   "source": [
    "And check how many prime numbers are there between {{xmin}} and {{xmax}}."
   ]
  },
  {
   "cell_type": "code",
   "execution_count": 245,
   "metadata": {},
   "outputs": [
    {
     "data": {
      "text/plain": [
       "24"
      ]
     },
     "execution_count": 245,
     "metadata": {},
     "output_type": "execute_result"
    }
   ],
   "source": [
    "len(primeset)"
   ]
  },
  {
   "cell_type": "markdown",
   "metadata": {},
   "source": [
    "## Finding Prime Numbers Between a Range"
   ]
  },
  {
   "cell_type": "code",
   "execution_count": 246,
   "metadata": {},
   "outputs": [],
   "source": [
    "primeset = []\n",
    "nonprimeset = [1]\n",
    "\n",
    "for num in numbers:\n",
    "    for i in range(2, num):\n",
    "        if (num % i) == 0:\n",
    "            if num not in nonprimeset:\n",
    "                nonprimeset.append(num)                \n",
    "\n",
    "    if num not in nonprimeset:\n",
    "        primeset.append(num)\n",
    "        "
   ]
  },
  {
   "cell_type": "code",
   "execution_count": 247,
   "metadata": {},
   "outputs": [
    {
     "name": "stdout",
     "output_type": "stream",
     "text": [
      "There are how many prime numbers between 1 and 100: 25\n",
      "They are: [2, 3, 5, 7, 11, 13, 17, 19, 23, 29, 31, 37, 41, 43, 47, 53, 59, 61, 67, 71, 73, 79, 83, 89, 97]\n"
     ]
    }
   ],
   "source": [
    "print ('There are how many prime numbers between ' + str(xmin) + ' and ' + str(xmax) + ': '+ str(len(primeset)))\n",
    "print ('They are:', primeset)"
   ]
  },
  {
   "cell_type": "code",
   "execution_count": null,
   "metadata": {},
   "outputs": [],
   "source": []
  }
 ],
 "metadata": {
  "kernelspec": {
   "display_name": "Python 3",
   "language": "python",
   "name": "python3"
  },
  "language_info": {
   "codemirror_mode": {
    "name": "ipython",
    "version": 3
   },
   "file_extension": ".py",
   "mimetype": "text/x-python",
   "name": "python",
   "nbconvert_exporter": "python",
   "pygments_lexer": "ipython3",
   "version": "3.6.4"
  }
 },
 "nbformat": 4,
 "nbformat_minor": 2
}
